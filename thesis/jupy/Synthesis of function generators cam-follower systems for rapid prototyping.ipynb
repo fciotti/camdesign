{
 "cells": [
  {
   "cell_type": "markdown",
   "metadata": {},
   "source": [
    "# Introduction"
   ]
  },
  {
   "cell_type": "markdown",
   "metadata": {},
   "source": [
    "The program interface is an interactive console written in _Python 3_ and it makes use of different libraries:\n",
    "\n",
    "- _numpy_ for array processing\n",
    "- _matplotlib_ for plotting\n",
    "- _shapely_ for geometric analysis\n",
    "- _scipy_ for interpolation\n",
    "- _sympy_ for expression parsing\n",
    "- _pyclipper_ for polygon offsetting\n",
    "- _stl_ for stl manipulation"
   ]
  },
  {
   "cell_type": "markdown",
   "metadata": {},
   "source": [
    "# Usage"
   ]
  },
  {
   "cell_type": "markdown",
   "metadata": {},
   "source": [
    "Command parsing relies on _argparse_ module, which takes charge of help generation, so every command's documentation may be requested with `-h` or `--help` option. Avalaible command are listed here:\n",
    "\n",
    "    usage: {help,exit,gen,update,load,save,draw,export,sim} ...\n",
    "\n",
    "    positional arguments:\n",
    "      {help,exit,gen,update,load,save,draw,export,sim}\n",
    "        help                show this help message\n",
    "        gen                 generate, unspecified variables set to default\n",
    "        update              update, unspecified variables unmodified\n",
    "        load                load from file\n",
    "        save                save to file\n",
    "        draw                plot representation\n",
    "        export              export stl model\n",
    "        sim                 dynamic simulation\n",
    "\n",
    "`gen` (and `update`), `export` and `sim` are discussed thoroughly in the following sections."
   ]
  },
  {
   "cell_type": "markdown",
   "metadata": {
    "collapsed": true
   },
   "source": [
    "# Follower travel generation"
   ]
  },
  {
   "cell_type": "markdown",
   "metadata": {},
   "source": [
    "    usage: gen travel [-h]\n",
    "                      [--kind {spline,linear,harmonic,cycloidal,parabolic,polynomial}]\n",
    "                      [--order ORDER] [-n N] [--steps STEPS] [--x0 X0] [--x1 X1]\n",
    "                      (--input INPUT | --function FUNCTION)\n",
    "\n",
    "    optional arguments:\n",
    "      -h, --help            show this help message and exit\n",
    "      -k {spline,linear,harmonic,cycloidal,parabolic,polynomial}\n",
    "                            kind of interpolation (default: linear)\n",
    "      --order ORDER, -o ORDER\n",
    "                            spline/polynomial order (default: 3)\n",
    "      -n N                  repetitions per cycle (default: 1)\n",
    "      --steps STEPS, -s STEPS\n",
    "                            interpolation steps (default: 10000)\n",
    "      --x0 X0, -a X0        lower bound of function evaluation (default: 0)\n",
    "      --x1 X1, -b X1        upper bound of function evaluation (default: 1)\n",
    "      --input INPUT, -i INPUT\n",
    "                            input file (default: None)\n",
    "      --function FUNCTION, -f FUNCTION\n",
    "                            function of x (default: None)\n",
    "                            \n",
    "The travel is generated from interpolation of points from an input file (list of semicolon-semapared fraction of unit length and heigth) with a given method or as discretization of a function between given bounds.\n",
    "The command calls the method _gen_ of a persistent instance the class _Travel_ which reads the input file or else parses the function, then it calls _update_ which populates the class arrays _x_ and _y_ calling the appropriate method from the _interpolation_ module or discretizing the function."
   ]
  },
  {
   "cell_type": "markdown",
   "metadata": {},
   "source": [
    "# Cam generation"
   ]
  },
  {
   "cell_type": "markdown",
   "metadata": {},
   "source": [
    "    usage: gen cam [-h] [--radius RADIUS] [--ccw] [--flat] [--offset OFFSET]\n",
    "                   [--fradius FRADIUS]\n",
    "\n",
    "    optional arguments:\n",
    "      -h, --help            show this help message and exit\n",
    "      --radius RADIUS, -r RADIUS\n",
    "                            base radius (default: 0)\n",
    "      --ccw                 counterclockwise (default: False)\n",
    "      --flat, -f            flat follower (default: False)\n",
    "      --offset OFFSET, -d OFFSET\n",
    "                            follower offset (default: 0)\n",
    "      --fradius FRADIUS, -q FRADIUS\n",
    "                            follower radius (set 0 for knife edge) (default: 0)\n",
    "\n",
    "a"
   ]
  },
  {
   "cell_type": "markdown",
   "metadata": {},
   "source": [
    "# STL exportation"
   ]
  },
  {
   "cell_type": "markdown",
   "metadata": {},
   "source": [
    "# Simulation"
   ]
  },
  {
   "cell_type": "markdown",
   "metadata": {
    "collapsed": true
   },
   "source": [
    "# Utilities"
   ]
  },
  {
   "cell_type": "markdown",
   "metadata": {},
   "source": [
    "```python\n",
    "parser_update_cam.add_argument('--nonflat', dest='flat', action='store_const', const=False, help='non flat follower')   \n",
    "```"
   ]
  },
  {
   "cell_type": "raw",
   "metadata": {},
   "source": [
    "\\fvset{fontsize=\\small}\n",
    "\\VerbatimInput{\\parent/main.py}"
   ]
  },
  {
   "cell_type": "code",
   "execution_count": null,
   "metadata": {
    "collapsed": true
   },
   "outputs": [],
   "source": []
  }
 ],
 "metadata": {
  "kernelspec": {
   "display_name": "Python 3",
   "language": "python",
   "name": "python3"
  },
  "language_info": {
   "codemirror_mode": {
    "name": "ipython",
    "version": 3
   },
   "file_extension": ".py",
   "mimetype": "text/x-python",
   "name": "python",
   "nbconvert_exporter": "python",
   "pygments_lexer": "ipython3",
   "version": "3.5.2"
  }
 },
 "nbformat": 4,
 "nbformat_minor": 0
}
